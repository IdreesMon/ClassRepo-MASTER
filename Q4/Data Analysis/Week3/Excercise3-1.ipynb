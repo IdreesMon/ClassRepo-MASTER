{
 "cells": [
  {
   "cell_type": "code",
   "execution_count": 1,
   "id": "7854747e-2128-4f0b-b26d-48a458f1e059",
   "metadata": {},
   "outputs": [
    {
     "name": "stdout",
     "output_type": "stream",
     "text": [
      "Hello World\n"
     ]
    }
   ],
   "source": [
    "print(\"Hello World\")\n"
   ]
  },
  {
   "cell_type": "code",
   "execution_count": 7,
   "id": "f54bfb47-cf1f-484e-99ff-4686bf8e0375",
   "metadata": {},
   "outputs": [
    {
     "name": "stdout",
     "output_type": "stream",
     "text": [
      "more string\n"
     ]
    }
   ],
   "source": [
    "print('more string')"
   ]
  },
  {
   "cell_type": "code",
   "execution_count": 5,
   "id": "a53100c0-0a12-4e7c-b7fe-2ab407ce610b",
   "metadata": {},
   "outputs": [
    {
     "name": "stdout",
     "output_type": "stream",
     "text": [
      "3\n"
     ]
    }
   ],
   "source": [
    "print(3)"
   ]
  },
  {
   "cell_type": "code",
   "execution_count": 9,
   "id": "e4332370-a871-4388-9dc2-7e406e7e5fc8",
   "metadata": {},
   "outputs": [
    {
     "name": "stdout",
     "output_type": "stream",
     "text": [
      "New England Tech\n",
      "7\n"
     ]
    }
   ],
   "source": [
    "print(\"New England Tech\")\n",
    "print(7)"
   ]
  },
  {
   "cell_type": "code",
   "execution_count": 12,
   "id": "680a8b32-1a72-472d-ad4a-5691cb695678",
   "metadata": {},
   "outputs": [],
   "source": [
    "a = 1"
   ]
  },
  {
   "cell_type": "raw",
   "id": "159efad2-3133-48c9-bf04-835614ca9714",
   "metadata": {},
   "source": [
    "print(a)"
   ]
  },
  {
   "cell_type": "code",
   "execution_count": 14,
   "id": "711a43e8-46c3-422a-9003-32ae312895b0",
   "metadata": {},
   "outputs": [],
   "source": [
    "b = 1"
   ]
  },
  {
   "cell_type": "code",
   "execution_count": 16,
   "id": "f2e513f0-d8ae-4b2e-85a2-dc65b2e4e3cc",
   "metadata": {},
   "outputs": [
    {
     "name": "stdout",
     "output_type": "stream",
     "text": [
      "hello there\n"
     ]
    }
   ],
   "source": [
    "c = \"hello there\"\n",
    "print(c)"
   ]
  },
  {
   "cell_type": "code",
   "execution_count": 18,
   "id": "e0710b39-dca6-471b-a0d8-aed510999ac9",
   "metadata": {},
   "outputs": [
    {
     "name": "stdout",
     "output_type": "stream",
     "text": [
      "this is a string\n"
     ]
    }
   ],
   "source": [
    "print(e)"
   ]
  },
  {
   "cell_type": "code",
   "execution_count": 20,
   "id": "87f7fe5a-80a7-43ed-8bf6-f34fd87d4776",
   "metadata": {},
   "outputs": [
    {
     "name": "stdout",
     "output_type": "stream",
     "text": [
      "this is a string\n"
     ]
    }
   ],
   "source": [
    "e = \"this is a string\"\n",
    "print(e)"
   ]
  },
  {
   "cell_type": "code",
   "execution_count": 22,
   "id": "24d7015e-e684-47ea-810d-677be7bce15d",
   "metadata": {},
   "outputs": [
    {
     "name": "stdout",
     "output_type": "stream",
     "text": [
      "1\n"
     ]
    }
   ],
   "source": [
    "f = a\n",
    "print(f)"
   ]
  },
  {
   "cell_type": "code",
   "execution_count": 24,
   "id": "69b50048-a921-4600-b147-263f741dbcfe",
   "metadata": {},
   "outputs": [
    {
     "name": "stdout",
     "output_type": "stream",
     "text": [
      "2\n",
      "1\n"
     ]
    }
   ],
   "source": [
    "a = 2\n",
    "print(a)\n",
    "print(f)"
   ]
  },
  {
   "cell_type": "code",
   "execution_count": null,
   "id": "c61d2cea-3be3-4504-9043-cc2cfdd2e186",
   "metadata": {},
   "outputs": [],
   "source": [
    "Joshua Mason"
   ]
  }
 ],
 "metadata": {
  "kernelspec": {
   "display_name": "Python 3 (ipykernel)",
   "language": "python",
   "name": "python3"
  },
  "language_info": {
   "codemirror_mode": {
    "name": "ipython",
    "version": 3
   },
   "file_extension": ".py",
   "mimetype": "text/x-python",
   "name": "python",
   "nbconvert_exporter": "python",
   "pygments_lexer": "ipython3",
   "version": "3.12.4"
  }
 },
 "nbformat": 4,
 "nbformat_minor": 5
}
