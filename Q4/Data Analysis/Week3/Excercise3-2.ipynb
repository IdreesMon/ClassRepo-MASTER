{
 "cells": [
  {
   "cell_type": "code",
   "execution_count": 1,
   "id": "22b1010f-c466-429f-81f3-c90af498fd12",
   "metadata": {},
   "outputs": [],
   "source": [
    "d = {}"
   ]
  },
  {
   "cell_type": "code",
   "execution_count": 3,
   "id": "72acde02-a559-4cb7-a3e6-f2536caaa268",
   "metadata": {},
   "outputs": [],
   "source": [
    "#d = {\"George\": 24, \"Tom\": 32}"
   ]
  },
  {
   "cell_type": "code",
   "execution_count": 5,
   "id": "aa818455-aed3-4b13-bc2b-cec19fd408fd",
   "metadata": {},
   "outputs": [],
   "source": [
    "d[\"George\"] = 24"
   ]
  },
  {
   "cell_type": "code",
   "execution_count": 7,
   "id": "0489d320-71f4-462a-8fff-727760b76a9d",
   "metadata": {},
   "outputs": [],
   "source": [
    "d[\"Tom\"] = 32\n",
    "d[\"Jenny\"] = 16"
   ]
  },
  {
   "cell_type": "code",
   "execution_count": 9,
   "id": "fcba1b23-0d10-4e47-8de1-d1eaf67d60ee",
   "metadata": {},
   "outputs": [
    {
     "name": "stdout",
     "output_type": "stream",
     "text": [
      "24\n"
     ]
    }
   ],
   "source": [
    "print(d[\"George\"])"
   ]
  },
  {
   "cell_type": "code",
   "execution_count": 11,
   "id": "e172578d-7681-4e83-be71-6d4f3761ca78",
   "metadata": {},
   "outputs": [
    {
     "ename": "KeyError",
     "evalue": "'Alice'",
     "output_type": "error",
     "traceback": [
      "\u001b[1;31m---------------------------------------------------------------------------\u001b[0m",
      "\u001b[1;31mKeyError\u001b[0m                                  Traceback (most recent call last)",
      "Cell \u001b[1;32mIn[11], line 1\u001b[0m\n\u001b[1;32m----> 1\u001b[0m \u001b[38;5;28mprint\u001b[39m(d[\u001b[38;5;124m\"\u001b[39m\u001b[38;5;124mAlice\u001b[39m\u001b[38;5;124m\"\u001b[39m])\n",
      "\u001b[1;31mKeyError\u001b[0m: 'Alice'"
     ]
    }
   ],
   "source": [
    "print(d[\"Alice\"])"
   ]
  },
  {
   "cell_type": "code",
   "execution_count": 13,
   "id": "915a23da-17cb-43c0-bdff-f655f8c27d6c",
   "metadata": {},
   "outputs": [
    {
     "name": "stdout",
     "output_type": "stream",
     "text": [
      "35\n"
     ]
    }
   ],
   "source": [
    "d[\"George\"] = 35\n",
    "print(d[\"George\"])"
   ]
  },
  {
   "cell_type": "code",
   "execution_count": 15,
   "id": "9c88536c-fbd7-40d3-a333-d0354f40325d",
   "metadata": {},
   "outputs": [
    {
     "name": "stdout",
     "output_type": "stream",
     "text": [
      "100\n"
     ]
    }
   ],
   "source": [
    "d[10] = 100\n",
    "print(d[10])"
   ]
  },
  {
   "cell_type": "code",
   "execution_count": 17,
   "id": "e2b228db-3cd9-4c5d-94c7-5c541efd1615",
   "metadata": {},
   "outputs": [
    {
     "name": "stdout",
     "output_type": "stream",
     "text": [
      "{'George': 35, 'Tom': 32, 'Jenny': 16, 10: 100}\n"
     ]
    }
   ],
   "source": [
    "print(d)"
   ]
  },
  {
   "cell_type": "code",
   "execution_count": 19,
   "id": "58516aad-e0fa-4f51-8365-0e037ff9349c",
   "metadata": {},
   "outputs": [
    {
     "name": "stdout",
     "output_type": "stream",
     "text": [
      "Key: George\n",
      "Value: 35 \n",
      "\n",
      "Key: Tom\n",
      "Value: 32 \n",
      "\n",
      "Key: Jenny\n",
      "Value: 16 \n",
      "\n",
      "Key: 10\n",
      "Value: 100 \n",
      "\n"
     ]
    }
   ],
   "source": [
    "for key, pair in d.items():\n",
    "    print(\"Key:\",key)\n",
    "    print(\"Value:\",pair,\"\\n\")\n",
    "    "
   ]
  },
  {
   "cell_type": "code",
   "execution_count": 21,
   "id": "46e634d6-6a68-4d04-9b4b-b062751215f2",
   "metadata": {},
   "outputs": [
    {
     "name": "stdout",
     "output_type": "stream",
     "text": [
      "Key: RI\n",
      "Value: Rhode Island \n",
      "\n",
      "Key: NY\n",
      "Value: New York \n",
      "\n",
      "Key: WI\n",
      "Value: Wisconsin \n",
      "\n",
      "Key: AL\n",
      "Value: Alabama \n",
      "\n",
      "Key: MA\n",
      "Value: Massachussetts \n",
      "\n",
      "Key: CT\n",
      "Value: Conneticut \n",
      "\n",
      "Key: ME\n",
      "Value: Maine \n",
      "\n"
     ]
    }
   ],
   "source": [
    "states = {\"RI\": \"Rhode Island\", \"NY\": \"New York\", \"WI\": \"Wisconsin\", \"AL\": \"Alabama\", \"MA\": \"Massachussetts\", \"CT\": \"Conneticut\", \"ME\": \"Maine\"}\n",
    "\n",
    "for key, pair in states.items():\n",
    "    print(\"Key:\",key)\n",
    "    print(\"Value:\",pair,\"\\n\")\n",
    "    "
   ]
  },
  {
   "cell_type": "code",
   "execution_count": 23,
   "id": "afe4b185-4944-428b-a0ca-9a334c588fa8",
   "metadata": {},
   "outputs": [
    {
     "name": "stdout",
     "output_type": "stream",
     "text": [
      "Rhode Island\n"
     ]
    }
   ],
   "source": [
    "print(states[\"RI\"])"
   ]
  },
  {
   "cell_type": "code",
   "execution_count": null,
   "id": "86ea3974-b64b-4480-b077-a968923a3898",
   "metadata": {},
   "outputs": [],
   "source": [
    "Joshua Mason"
   ]
  }
 ],
 "metadata": {
  "kernelspec": {
   "display_name": "Python 3 (ipykernel)",
   "language": "python",
   "name": "python3"
  },
  "language_info": {
   "codemirror_mode": {
    "name": "ipython",
    "version": 3
   },
   "file_extension": ".py",
   "mimetype": "text/x-python",
   "name": "python",
   "nbconvert_exporter": "python",
   "pygments_lexer": "ipython3",
   "version": "3.12.4"
  }
 },
 "nbformat": 4,
 "nbformat_minor": 5
}
